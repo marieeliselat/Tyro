{
  "nbformat": 4,
  "nbformat_minor": 0,
  "metadata": {
    "colab": {
      "provenance": []
    },
    "kernelspec": {
      "name": "python3",
      "display_name": "Python 3"
    },
    "language_info": {
      "name": "python"
    }
  },
  "cells": [
    {
      "cell_type": "code",
      "source": [
        "!pip install pmdarima"
      ],
      "metadata": {
        "colab": {
          "base_uri": "https://localhost:8080/"
        },
        "id": "V0aVq2i5szqs",
        "outputId": "c95148c5-6216-4d14-ff5a-55878031731e"
      },
      "execution_count": null,
      "outputs": [
        {
          "output_type": "stream",
          "name": "stdout",
          "text": [
            "Looking in indexes: https://pypi.org/simple, https://us-python.pkg.dev/colab-wheels/public/simple/\n",
            "Requirement already satisfied: pmdarima in /usr/local/lib/python3.7/dist-packages (1.8.5)\n",
            "Requirement already satisfied: scikit-learn>=0.22 in /usr/local/lib/python3.7/dist-packages (from pmdarima) (1.0.2)\n",
            "Requirement already satisfied: setuptools!=50.0.0,>=38.6.0 in /usr/local/lib/python3.7/dist-packages (from pmdarima) (57.4.0)\n",
            "Requirement already satisfied: pandas>=0.19 in /usr/local/lib/python3.7/dist-packages (from pmdarima) (1.3.5)\n",
            "Requirement already satisfied: statsmodels!=0.12.0,>=0.11 in /usr/local/lib/python3.7/dist-packages (from pmdarima) (0.13.2)\n",
            "Requirement already satisfied: urllib3 in /usr/local/lib/python3.7/dist-packages (from pmdarima) (1.24.3)\n",
            "Requirement already satisfied: Cython!=0.29.18,>=0.29 in /usr/local/lib/python3.7/dist-packages (from pmdarima) (0.29.30)\n",
            "Requirement already satisfied: scipy>=1.3.2 in /usr/local/lib/python3.7/dist-packages (from pmdarima) (1.4.1)\n",
            "Requirement already satisfied: joblib>=0.11 in /usr/local/lib/python3.7/dist-packages (from pmdarima) (1.1.0)\n",
            "Requirement already satisfied: numpy>=1.19.3 in /usr/local/lib/python3.7/dist-packages (from pmdarima) (1.21.6)\n",
            "Requirement already satisfied: pytz>=2017.3 in /usr/local/lib/python3.7/dist-packages (from pandas>=0.19->pmdarima) (2022.1)\n",
            "Requirement already satisfied: python-dateutil>=2.7.3 in /usr/local/lib/python3.7/dist-packages (from pandas>=0.19->pmdarima) (2.8.2)\n",
            "Requirement already satisfied: six>=1.5 in /usr/local/lib/python3.7/dist-packages (from python-dateutil>=2.7.3->pandas>=0.19->pmdarima) (1.15.0)\n",
            "Requirement already satisfied: threadpoolctl>=2.0.0 in /usr/local/lib/python3.7/dist-packages (from scikit-learn>=0.22->pmdarima) (3.1.0)\n",
            "Requirement already satisfied: packaging>=21.3 in /usr/local/lib/python3.7/dist-packages (from statsmodels!=0.12.0,>=0.11->pmdarima) (21.3)\n",
            "Requirement already satisfied: patsy>=0.5.2 in /usr/local/lib/python3.7/dist-packages (from statsmodels!=0.12.0,>=0.11->pmdarima) (0.5.2)\n",
            "Requirement already satisfied: pyparsing!=3.0.5,>=2.0.2 in /usr/local/lib/python3.7/dist-packages (from packaging>=21.3->statsmodels!=0.12.0,>=0.11->pmdarima) (3.0.9)\n"
          ]
        }
      ]
    },
    {
      "cell_type": "code",
      "execution_count": null,
      "metadata": {
        "id": "iNjbj4dTYo37"
      },
      "outputs": [],
      "source": [
        "from statsmodels.tsa.stattools import adfuller\n",
        "import pandas as pd\n",
        "import numpy as np"
      ]
    },
    {
      "cell_type": "code",
      "source": [
        "# import data from github repo\n",
        "df = pd.read_csv(\"https://raw.githubusercontent.com/ai4good-m3/tyro/master/modified%20data%20lily.csv\", sep=\";\")\n",
        "df.info()"
      ],
      "metadata": {
        "colab": {
          "base_uri": "https://localhost:8080/"
        },
        "id": "TczNlcqxZCwc",
        "outputId": "ecf4901d-7f63-4e1e-b09c-3305eea89d91"
      },
      "execution_count": null,
      "outputs": [
        {
          "output_type": "stream",
          "name": "stdout",
          "text": [
            "<class 'pandas.core.frame.DataFrame'>\n",
            "RangeIndex: 14 entries, 0 to 13\n",
            "Data columns (total 2 columns):\n",
            " #   Column  Non-Null Count  Dtype \n",
            "---  ------  --------------  ----- \n",
            " 0   Date    14 non-null     object\n",
            " 1   TSH     14 non-null     object\n",
            "dtypes: object(2)\n",
            "memory usage: 352.0+ bytes\n"
          ]
        }
      ]
    },
    {
      "cell_type": "markdown",
      "source": [
        "Convert the entries to float"
      ],
      "metadata": {
        "id": "uvKYK3fLUxVS"
      }
    },
    {
      "cell_type": "code",
      "source": [
        "df = df.replace(\",\", \".\", regex=True)\n",
        "df[\"TSH\"] = df[\"TSH\"].astype(\"float\")\n",
        "df[\"TSH\"]=df[\"TSH\"].dropna()"
      ],
      "metadata": {
        "id": "A1X6127-gyxC"
      },
      "execution_count": null,
      "outputs": []
    },
    {
      "cell_type": "markdown",
      "source": [
        "Get informations about the data with the help of adfuller"
      ],
      "metadata": {
        "id": "VOYfLNPDWr2X"
      }
    },
    {
      "cell_type": "code",
      "source": [
        "# find p and d\n",
        "result = adfuller(df[\"TSH\"].dropna(), autolag = 'AIC')\n",
        "print('ADF Statistic: %f' % result[0])\n",
        "print('P-value: %f' % result[1])\n",
        "print('Number of lags:', result[2])\n",
        "print('Number of observations used for ADF regression:', result[3])\n",
        "print('Critical values:')\n",
        "for key, val in result[4].items():\n",
        "  print('\\t',key,':',val)\n",
        "\n",
        "# this returns p=0.000002, which is under the significance level of 0.05\n",
        "# therefore we don't need to differentiate, so we will try a first model with d=0"
      ],
      "metadata": {
        "colab": {
          "base_uri": "https://localhost:8080/"
        },
        "id": "_7raTLX-d_NJ",
        "outputId": "6d727b22-6f15-4419-8b21-2ba592036a92"
      },
      "execution_count": null,
      "outputs": [
        {
          "output_type": "stream",
          "name": "stdout",
          "text": [
            "ADF Statistic: -2.128287\n",
            "P-value: 0.233293\n",
            "Number of lags: 5\n",
            "Number of observations used for ADF regression: 8\n",
            "Critical values:\n",
            "\t 1% : -4.6651863281249994\n",
            "\t 5% : -3.3671868750000002\n",
            "\t 10% : -2.802960625\n"
          ]
        }
      ]
    },
    {
      "cell_type": "code",
      "source": [
        "# find q\n",
        "from statsmodels.graphics.tsaplots import plot_acf, plot_pacf\n",
        "import matplotlib.pyplot as plt\n",
        "\n",
        "fig, axes = plt.subplots(1, 2, sharex=True)\n",
        "axes[0].plot(df[\"TSH\"].diff()); axes[0].set_title('1st Differencing')\n",
        "axes[1].set(ylim=(0,1.2))\n",
        "plot_acf(df[\"TSH\"].diff().dropna(), ax=axes[1])\n",
        "\n",
        "plt.show()"
      ],
      "metadata": {
        "colab": {
          "base_uri": "https://localhost:8080/",
          "height": 281
        },
        "id": "2Nn42zTje5np",
        "outputId": "0491b20e-3087-4c15-eaef-a2fff0916821"
      },
      "execution_count": null,
      "outputs": [
        {
          "output_type": "display_data",
          "data": {
            "text/plain": [
              "<Figure size 432x288 with 2 Axes>"
            ],
            "image/png": "[encoded data removed]"
          },
          "metadata": {
            "needs_background": "light"
          }
        }
      ]
    },
    {
      "cell_type": "code",
      "source": [
        "print(df[\"TSH\"])"
      ],
      "metadata": {
        "id": "GKL2VXRBFGZr",
        "colab": {
          "base_uri": "https://localhost:8080/"
        },
        "outputId": "df243f34-216a-4c66-f4be-61a60d54926f"
      },
      "execution_count": null,
      "outputs": [
        {
          "output_type": "stream",
          "name": "stdout",
          "text": [
            "0     9.43\n",
            "1     5.06\n",
            "2     0.68\n",
            "3     1.54\n",
            "4     1.70\n",
            "5     1.85\n",
            "6     2.18\n",
            "7     2.51\n",
            "8     2.84\n",
            "9     3.17\n",
            "10    3.48\n",
            "11    3.70\n",
            "12    3.92\n",
            "13    4.14\n",
            "Name: TSH, dtype: float64\n"
          ]
        }
      ]
    },
    {
      "cell_type": "markdown",
      "source": [
        "Compute the log of the dataset, so that when we convert it back to exp the values remain strictly positive (as hormone levels ought to be)"
      ],
      "metadata": {
        "id": "oGTyGJfyRJ72"
      }
    },
    {
      "cell_type": "code",
      "source": [
        "from math import log, exp\n",
        "log_TSH=[]\n",
        "for i in range(len(df[\"TSH\"])):\n",
        "  cur = df[\"TSH\"][i]\n",
        "  log_TSH.append(log(cur))"
      ],
      "metadata": {
        "id": "L3AeiH4HpkhG"
      },
      "execution_count": null,
      "outputs": []
    },
    {
      "cell_type": "code",
      "source": [
        "df[\"log_TSH\"]=log_TSH"
      ],
      "metadata": {
        "id": "Hcf2pmBfGrMt"
      },
      "execution_count": null,
      "outputs": []
    },
    {
      "cell_type": "code",
      "source": [
        "# ARIMA implementation\n",
        "from statsmodels.tsa.arima.model import ARIMA\n",
        "\n",
        "# 0,0,1 ARIMA Model\n",
        "model = ARIMA(df[\"log_TSH\"].dropna(), order=(0,0,1))\n",
        "model_fit = model.fit()\n",
        "print(model_fit.summary())"
      ],
      "metadata": {
        "colab": {
          "base_uri": "https://localhost:8080/"
        },
        "id": "jgR_SKtwrZKh",
        "outputId": "fca22842-e998-485e-8c3c-17695a5b4f69"
      },
      "execution_count": null,
      "outputs": [
        {
          "output_type": "stream",
          "name": "stdout",
          "text": [
            "                               SARIMAX Results                                \n",
            "==============================================================================\n",
            "Dep. Variable:                log_TSH   No. Observations:                   14\n",
            "Model:                 ARIMA(0, 0, 1)   Log Likelihood                 -11.009\n",
            "Date:                Thu, 16 Jun 2022   AIC                             28.018\n",
            "Time:                        19:42:45   BIC                             29.935\n",
            "Sample:                             0   HQIC                            27.841\n",
            "                                 - 14                                         \n",
            "Covariance Type:                  opg                                         \n",
            "==============================================================================\n",
            "                 coef    std err          z      P>|z|      [0.025      0.975]\n",
            "------------------------------------------------------------------------------\n",
            "const          1.0504      0.229      4.582      0.000       0.601       1.500\n",
            "ma.L1          0.5843      0.446      1.311      0.190      -0.289       1.458\n",
            "sigma2         0.2739      0.108      2.533      0.011       0.062       0.486\n",
            "===================================================================================\n",
            "Ljung-Box (L1) (Q):                   0.11   Jarque-Bera (JB):                 5.29\n",
            "Prob(Q):                              0.74   Prob(JB):                         0.07\n",
            "Heteroskedasticity (H):               0.05   Skew:                            -0.99\n",
            "Prob(H) (two-sided):                  0.00   Kurtosis:                         5.28\n",
            "===================================================================================\n",
            "\n",
            "Warnings:\n",
            "[1] Covariance matrix calculated using the outer product of gradients (complex-step).\n"
          ]
        }
      ]
    },
    {
      "cell_type": "code",
      "source": [
        "# Plot residual errors\n",
        "residuals = pd.DataFrame(model_fit.resid)\n",
        "fig, ax = plt.subplots(1,2)\n",
        "residuals.plot(title=\"Residuals\", ax=ax[0])\n",
        "residuals.plot(kind='kde', title='Density', ax=ax[1])\n",
        "plt.show()"
      ],
      "metadata": {
        "colab": {
          "base_uri": "https://localhost:8080/",
          "height": 281
        },
        "id": "0vQ-XP8EOB1I",
        "outputId": "d8a3fc8b-fb3e-49fe-fc8d-63b3d6c1d141"
      },
      "execution_count": null,
      "outputs": [
        {
          "output_type": "display_data",
          "data": {
            "text/plain": [
              "<Figure size 432x288 with 2 Axes>"
            ],
            "image/png": "[encoded data removed]"
          },
          "metadata": {
            "needs_background": "light"
          }
        }
      ]
    },
    {
      "cell_type": "markdown",
      "source": [
        "We have a near 0 mean and the variance is near uniform.\n",
        "Now plot the actuals VS fitted values."
      ],
      "metadata": {
        "id": "KlZZpI10OOKV"
      }
    },
    {
      "cell_type": "code",
      "source": [
        "y = model_fit.predict(dynamic=False)\n",
        "print(y.to_numpy)"
      ],
      "metadata": {
        "colab": {
          "base_uri": "https://localhost:8080/"
        },
        "id": "_6iqaSWVMjDk",
        "outputId": "076b7b76-5f51-40c1-e1e3-eba4acc388d1"
      },
      "execution_count": null,
      "outputs": [
        {
          "output_type": "stream",
          "name": "stdout",
          "text": [
            "<bound method IndexOpsMixin.to_numpy of 0     1.037000\n",
            "1     1.494742\n",
            "2     1.021893\n",
            "3     0.322706\n",
            "4     1.211035\n",
            "5     0.643955\n",
            "6     1.085577\n",
            "7     0.862984\n",
            "8     1.096524\n",
            "9     0.998615\n",
            "10    1.127674\n",
            "11    1.087177\n",
            "12    1.149208\n",
            "13    1.136770\n",
            "Name: predicted_mean, dtype: float64>\n"
          ]
        }
      ]
    },
    {
      "cell_type": "markdown",
      "source": [
        "Take the exponential of the predictions so that they go back to normal, strictly positive, levels\n"
      ],
      "metadata": {
        "id": "dteFbZp8QwKV"
      }
    },
    {
      "cell_type": "code",
      "source": [
        "preds = np.exp(y)\n",
        "real = df[\"TSH\"]\n",
        "plt.plot(preds, label=\"Predicted TSH levels\")\n",
        "plt.plot(real, label=\"TSH levels\")\n",
        "plt.legend()\n",
        "plt.show()"
      ],
      "metadata": {
        "colab": {
          "base_uri": "https://localhost:8080/",
          "height": 265
        },
        "id": "yEKLp9I2OcLx",
        "outputId": "c72fb64e-6244-4410-9110-49ed04a52727"
      },
      "execution_count": null,
      "outputs": [
        {
          "output_type": "display_data",
          "data": {
            "text/plain": [
              "<Figure size 432x288 with 1 Axes>"
            ],
            "image/png": "[encoded data removed]"
          },
          "metadata": {
            "needs_background": "light"
          }
        }
      ]
    },
    {
      "cell_type": "markdown",
      "source": [
        "Let's try **auto-ARIMA**"
      ],
      "metadata": {
        "id": "AX_TmCd3P6Dw"
      }
    },
    {
      "cell_type": "code",
      "source": [
        "import pmdarima as pm\n",
        "import warnings\n",
        "warnings.filterwarnings(\"ignore\")\n",
        "\n",
        "model = pm.auto_arima(df[\"log_TSH\"].dropna(), start_p=1, start_q=1,\n",
        "                      test='adf',       # use adftest to find optimal 'd'\n",
        "                      max_p=3, max_q=3, # maximum p and q\n",
        "                      m=1,              # frequency of series\n",
        "                      d=None,           # let model determine 'd'\n",
        "                      seasonal=False,   # No Seasonality\n",
        "                      start_P=0,\n",
        "                      D=0,\n",
        "                      trace=True,\n",
        "                      error_action='ignore',\n",
        "                      suppress_warnings=True, stepwise=True)\n",
        "\n",
        "print(model.summary())"
      ],
      "metadata": {
        "id": "7lxGsVsjRasz",
        "colab": {
          "base_uri": "https://localhost:8080/"
        },
        "outputId": "2a9dd224-bcd2-42b3-f481-2e6f0af17346"
      },
      "execution_count": null,
      "outputs": [
        {
          "output_type": "stream",
          "name": "stdout",
          "text": [
            "Performing stepwise search to minimize aic\n",
            " ARIMA(1,2,1)(0,0,0)[0] intercept   : AIC=inf, Time=0.24 sec\n",
            " ARIMA(0,2,0)(0,0,0)[0] intercept   : AIC=36.316, Time=0.01 sec\n",
            " ARIMA(1,2,0)(0,0,0)[0] intercept   : AIC=32.150, Time=0.02 sec\n",
            " ARIMA(0,2,1)(0,0,0)[0] intercept   : AIC=inf, Time=0.09 sec\n",
            " ARIMA(0,2,0)(0,0,0)[0]             : AIC=34.360, Time=0.01 sec\n",
            " ARIMA(2,2,0)(0,0,0)[0] intercept   : AIC=33.396, Time=0.05 sec\n",
            " ARIMA(2,2,1)(0,0,0)[0] intercept   : AIC=inf, Time=0.19 sec\n",
            " ARIMA(1,2,0)(0,0,0)[0]             : AIC=30.868, Time=0.02 sec\n",
            " ARIMA(2,2,0)(0,0,0)[0]             : AIC=32.197, Time=0.06 sec\n",
            " ARIMA(1,2,1)(0,0,0)[0]             : AIC=32.221, Time=0.06 sec\n",
            " ARIMA(0,2,1)(0,0,0)[0]             : AIC=30.294, Time=0.02 sec\n",
            " ARIMA(0,2,2)(0,0,0)[0]             : AIC=32.206, Time=0.05 sec\n",
            " ARIMA(1,2,2)(0,0,0)[0]             : AIC=34.198, Time=0.10 sec\n",
            "\n",
            "Best model:  ARIMA(0,2,1)(0,0,0)[0]          \n",
            "Total fit time: 0.961 seconds\n",
            "                               SARIMAX Results                                \n",
            "==============================================================================\n",
            "Dep. Variable:                      y   No. Observations:                   14\n",
            "Model:               SARIMAX(0, 2, 1)   Log Likelihood                 -13.147\n",
            "Date:                Thu, 16 Jun 2022   AIC                             30.294\n",
            "Time:                        19:29:27   BIC                             31.264\n",
            "Sample:                             0   HQIC                            29.935\n",
            "                                 - 14                                         \n",
            "Covariance Type:                  opg                                         \n",
            "==============================================================================\n",
            "                 coef    std err          z      P>|z|      [0.025      0.975]\n",
            "------------------------------------------------------------------------------\n",
            "ma.L1         -0.8012      0.892     -0.899      0.369      -2.549       0.946\n",
            "sigma2         0.4809      0.437      1.100      0.271      -0.376       1.338\n",
            "===================================================================================\n",
            "Ljung-Box (L1) (Q):                   1.23   Jarque-Bera (JB):                 3.67\n",
            "Prob(Q):                              0.27   Prob(JB):                         0.16\n",
            "Heteroskedasticity (H):               0.00   Skew:                             0.67\n",
            "Prob(H) (two-sided):                  0.00   Kurtosis:                         5.36\n",
            "===================================================================================\n",
            "\n",
            "Warnings:\n",
            "[1] Covariance matrix calculated using the outer product of gradients (complex-step).\n"
          ]
        }
      ]
    },
    {
      "cell_type": "markdown",
      "source": [
        "NEXT STEP: do out-of-time cross-validation: split the time series into a 75:25 ratio (training:testing). For now, there is too little data."
      ],
      "metadata": {
        "id": "04UaHexzeymM"
      }
    },
    {
      "cell_type": "code",
      "source": [
        "from statsmodels.tsa.stattools import acf\n",
        "\n",
        "# Create Training and Test\n",
        "train = df[\"TSH\"][:11]\n",
        "# The test set will consist of the 6th datapoint\n",
        "test = df[\"TSH\"][10:]"
      ],
      "metadata": {
        "id": "IvEGnskvtXlf"
      },
      "execution_count": null,
      "outputs": []
    },
    {
      "cell_type": "code",
      "source": [
        "# Build Model with parameters (0,2,1), as recommended by auto-arima\n",
        "model = ARIMA(train, order=(0,2,1))\n",
        "fitted = model.fit()\n",
        "\n",
        "# Forecast\n",
        "fc = fitted.forecast(3, alpha=0.05)  # 95% conf\n",
        "\n",
        "# Make as pandas series\n",
        "\n",
        "fc_series=pd.Series(fc)\n",
        "ten=pd.Series(df[\"TSH\"][10], index=[10])\n",
        "fc_series = pd.concat([ten, fc_series])\n",
        "\n",
        "# Plot\n",
        "plt.figure(figsize=(12,5), dpi=100)\n",
        "plt.plot(train, label='training')\n",
        "plt.plot(test, label='actual')\n",
        "plt.plot(fc_series, label='forecast')\n",
        "dates=df[\"Date\"].to_numpy()\n",
        "d=np.arange(14)\n",
        "plt.xticks(d,dates)\n",
        "plt.title('Forecast vs Actuals by ARIMA(0,2,1)')\n",
        "plt.legend(loc='upper left', fontsize=8)\n",
        "plt.show()"
      ],
      "metadata": {
        "colab": {
          "base_uri": "https://localhost:8080/",
          "height": 460
        },
        "id": "sjdA6kjOuNIj",
        "outputId": "af3d7bde-d323-407c-a9bd-98c13fcd3bd2"
      },
      "execution_count": null,
      "outputs": [
        {
          "output_type": "display_data",
          "data": {
            "text/plain": [
              "<Figure size 1200x500 with 1 Axes>"
            ],
            "image/png": "[encoded data removed]"
          },
          "metadata": {
            "needs_background": "light"
          }
        }
      ]
    }
  ]
}